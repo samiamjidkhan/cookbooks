{
  "cells": [
    {
      "cell_type": "markdown",
      "id": "2d789b89-9738-41af-ae46-5a2d5ad3d935",
      "metadata": {
        "id": "2d789b89-9738-41af-ae46-5a2d5ad3d935"
      },
      "source": [
        "[![Open in Colab](https://colab.research.google.com/assets/colab-badge.svg)](https://colab.research.google.com/drive/1vCg_Zb_hBTfus1rMCCtwRwz_FvvHtKPm?usp=sharing)\n"
      ]
    },
    {
      "cell_type": "markdown",
      "id": "244c6ea3-6d7e-40e5-b350-46eb07c8bab7",
      "metadata": {
        "id": "244c6ea3-6d7e-40e5-b350-46eb07c8bab7"
      },
      "source": [
        "# Build a PDF ingestion and Question/Answering system\n",
        "\n",
        "PDF files often hold crucial unstructured data unavailable from other sources. They can be quite lengthy, and unlike plain text files, cannot generally be fed directly into the prompt of a language model.\n",
        "\n",
        "In this tutorial, I have created a system that can answer questions about PDF files. More specifically, I'll use a [Document Loader](https://python.langchain.com/docs/concepts/document_loaders/) to load text in a format usable by an LLM, then build a retrieval-augmented generation (RAG) pipeline to answer questions, including citations from the source material.\n",
        "\n",
        "Let's dive in!"
      ]
    },
    {
      "cell_type": "markdown",
      "id": "22cd5cf9-9837-4d57-a463-537fe512de72",
      "metadata": {
        "id": "22cd5cf9-9837-4d57-a463-537fe512de72"
      },
      "source": [
        "## Loading documents\n",
        "First, you'll need to choose a PDF to load. I'm using PDF of the book 'The Bitcoin Standard' by Saifedean Ammous. It's over 300 pages long. However, you can feel free to use a PDF of your choosing.\n",
        "\n",
        "Once you've chosen your PDF, the next step is to load it into a format that an LLM can more easily handle, since LLMs generally require text inputs. LangChain has a few different [built-in document loaders](https://python.langchain.com/docs/how_to/document_loader_pdf/) for this purpose which you can experiment with. Below, we'll use one powered by the `pypdf` package that reads from a filepath:"
      ]
    },
    {
      "cell_type": "code",
      "execution_count": null,
      "id": "db6853e2-1874-4bde-8947-0946f65ab728",
      "metadata": {
        "id": "db6853e2-1874-4bde-8947-0946f65ab728"
      },
      "outputs": [],
      "source": [
        "!pip install pypdf langchain_community"
      ]
    },
    {
      "cell_type": "code",
      "execution_count": null,
      "id": "00dd8860-0c67-482b-9e10-5f5f45f27122",
      "metadata": {
        "id": "00dd8860-0c67-482b-9e10-5f5f45f27122",
        "outputId": "353cac36-a05c-4cc1-9517-3d77358d93a9"
      },
      "outputs": [
        {
          "name": "stdout",
          "output_type": "stream",
          "text": [
            "304\n"
          ]
        }
      ],
      "source": [
        "from langchain_community.document_loaders import PyPDFLoader\n",
        "\n",
        "file_path = \"The Bitcoin Standard.pdf\"\n",
        "loader = PyPDFLoader(file_path)\n",
        "\n",
        "docs = loader.load()\n",
        "\n",
        "print(len(docs))\n"
      ]
    },
    {
      "cell_type": "markdown",
      "id": "b83600fd-b80a-4a61-acb9-247f11a29245",
      "metadata": {
        "id": "b83600fd-b80a-4a61-acb9-247f11a29245"
      },
      "source": [
        "So what just happened?\n",
        "\n",
        "- The loader reads the PDF at the specified path into memory.\n",
        "- It then extracts text data using the pypdf package.\n",
        "- Finally, it creates a LangChain [Document](https://python.langchain.com/api_reference/core/documents/langchain_core.documents.base.Document.html#langchain_core.documents.base.Document) for each page of the PDF with the page's content and some metadata about where in the document the text came from.\n",
        "  \n",
        "LangChain has [many other document loaders](https://python.langchain.com/docs/integrations/document_loaders/) for other data sources, or you can create a [custom document loader](https://python.langchain.com/docs/how_to/document_loader_custom/)."
      ]
    },
    {
      "cell_type": "markdown",
      "id": "3435d98b-35e7-4da5-8f0d-5a4419f86bdf",
      "metadata": {
        "id": "3435d98b-35e7-4da5-8f0d-5a4419f86bdf"
      },
      "source": [
        "## Question answering with RAG\n",
        "Next, you'll prepare the loaded documents for later retrieval. Using a [text splitter](https://python.langchain.com/docs/concepts/text_splitters/), you'll split your loaded documents into smaller documents that can more easily fit into an LLM's context window, then load them into a [vector store](https://python.langchain.com/docs/concepts/vectorstores/). You can then create a [retriever](https://python.langchain.com/docs/concepts/retrievers/) from the vector store for use in our RAG chain:"
      ]
    },
    {
      "cell_type": "markdown",
      "id": "7ffc1162-ded5-41be-8111-9e9d893fa3f3",
      "metadata": {
        "id": "7ffc1162-ded5-41be-8111-9e9d893fa3f3"
      },
      "source": [
        "### Setting Up Groq with LangChain for LLMs\n",
        "\n",
        "We will set up access to Groq's API (create an account and get your free API key from [Groq Console](https://console.groq.com/keys) and use it with LangChain to run a model called `llama3-8b-8192`."
      ]
    },
    {
      "cell_type": "code",
      "execution_count": null,
      "id": "bf437f93-c19a-4455-8ebc-baa4dbb1829e",
      "metadata": {
        "id": "bf437f93-c19a-4455-8ebc-baa4dbb1829e"
      },
      "outputs": [],
      "source": [
        "!pip install langchain-groq"
      ]
    },
    {
      "cell_type": "code",
      "execution_count": null,
      "id": "10b125d3-cd65-4197-8832-bafb269e7643",
      "metadata": {
        "id": "10b125d3-cd65-4197-8832-bafb269e7643",
        "outputId": "c8bb536c-72fa-4a5c-bea8-3ad88c326885"
      },
      "outputs": [
        {
          "name": "stdin",
          "output_type": "stream",
          "text": [
            " ········\n"
          ]
        }
      ],
      "source": [
        "import getpass\n",
        "import os\n",
        "\n",
        "os.environ[\"GROQ_API_KEY\"] = getpass.getpass()\n",
        "\n",
        "from langchain_groq import ChatGroq\n",
        "\n",
        "llm = ChatGroq(model=\"llama3-8b-8192\")"
      ]
    },
    {
      "cell_type": "markdown",
      "id": "45e3b3ac-e28e-4291-bf4a-996d141f0000",
      "metadata": {
        "id": "45e3b3ac-e28e-4291-bf4a-996d141f0000"
      },
      "source": [
        "## In-Memory Vector Store with Custom Embeddings\n",
        "\n",
        "This code snippet demonstrates how to build an in-memory vector store for information retrieval using custom embeddings. Below is a breakdown of the components and their functions:\n",
        "\n",
        "### Libraries and Classes Used:\n",
        "- **`InMemoryVectorStore`**: A lightweight vector store for storing and retrieving document embeddings.\n",
        "- **`RecursiveCharacterTextSplitter`**: A utility for splitting large documents into smaller chunks for efficient embedding.\n",
        "- **`SentenceTransformer`**: A library from the `sentence-transformers` package used for creating embeddings from documents and queries.\n",
        "\n",
        "### Custom Embedding Class:\n",
        "The `HFEmbeddings` class wraps the `SentenceTransformer` model for embedding documents and queries.\n"
      ]
    },
    {
      "cell_type": "code",
      "execution_count": null,
      "id": "b442e32f-bd02-4795-b4a9-d911403c0ed3",
      "metadata": {
        "id": "b442e32f-bd02-4795-b4a9-d911403c0ed3"
      },
      "outputs": [],
      "source": [
        "!pip install langchain-core langchain-text-splitters sentence-transformers"
      ]
    },
    {
      "cell_type": "code",
      "execution_count": null,
      "id": "30c0837d-430d-4203-8a9f-ab7a88da2d6e",
      "metadata": {
        "colab": {
          "referenced_widgets": [
            "3bf7aa225ebb498c81c473a472a0bd6d"
          ]
        },
        "id": "30c0837d-430d-4203-8a9f-ab7a88da2d6e",
        "outputId": "d74db212-46e9-4917-b2fe-e4b9e685295b"
      },
      "outputs": [
        {
          "data": {
            "application/vnd.jupyter.widget-view+json": {
              "model_id": "3bf7aa225ebb498c81c473a472a0bd6d",
              "version_major": 2,
              "version_minor": 0
            },
            "text/plain": [
              "Batches:   0%|          | 0/28 [00:00<?, ?it/s]"
            ]
          },
          "metadata": {},
          "output_type": "display_data"
        }
      ],
      "source": [
        "from langchain_core.vectorstores import InMemoryVectorStore\n",
        "from langchain_text_splitters import RecursiveCharacterTextSplitter\n",
        "from sentence_transformers import SentenceTransformer\n",
        "\n",
        "class HFEmbeddings:\n",
        "    def __init__(self, model_name=\"all-MiniLM-L6-v2\"):\n",
        "        self.model = SentenceTransformer(model_name)\n",
        "\n",
        "    def embed_documents(self, texts):\n",
        "        \"\"\"Embed a list of documents.\"\"\"\n",
        "        return self.model.encode(texts, show_progress_bar=True)\n",
        "\n",
        "    def embed_query(self, query):\n",
        "        \"\"\"Embed a single query.\"\"\"\n",
        "        return self.model.encode(query, show_progress_bar=False)\n",
        "\n",
        "# Split the documents into chunks\n",
        "text_splitter = RecursiveCharacterTextSplitter(chunk_size=1000, chunk_overlap=200)\n",
        "splits = text_splitter.split_documents(docs)\n",
        "\n",
        "# Create an instance of the embedding class\n",
        "embeddings = HFEmbeddings()\n",
        "\n",
        "# Create the vectorstore using the custom embeddings\n",
        "vectorstore = InMemoryVectorStore.from_documents(\n",
        "    documents=splits, embedding=embeddings\n",
        ")\n",
        "\n",
        "retriever = vectorstore.as_retriever()"
      ]
    },
    {
      "cell_type": "markdown",
      "id": "3f4cf45c-279b-4241-b69d-ebf86ef03474",
      "metadata": {
        "id": "3f4cf45c-279b-4241-b69d-ebf86ef03474"
      },
      "source": [
        "### Finally, you'll use some built-in helpers to construct the final `rag_chain`:\n",
        "\n"
      ]
    },
    {
      "cell_type": "code",
      "execution_count": null,
      "id": "63df6f0f-1eeb-4524-9476-26694e6511c9",
      "metadata": {
        "id": "63df6f0f-1eeb-4524-9476-26694e6511c9"
      },
      "outputs": [],
      "source": [
        "from langchain.chains import create_retrieval_chain\n",
        "from langchain.chains.combine_documents import create_stuff_documents_chain\n",
        "from langchain_core.prompts import ChatPromptTemplate\n",
        "\n",
        "\n",
        "system_prompt = (\n",
        "    \"You are an assistant for question-answering tasks. \"\n",
        "    \"Use the following pieces of retrieved context to answer \"\n",
        "    \"the question. If you don't know the answer, say that you \"\n",
        "    \"don't know.\"\n",
        "    \"\\n\\n\"\n",
        "    \"{context}\"\n",
        ")\n",
        "\n",
        "prompt = ChatPromptTemplate.from_messages(\n",
        "    [\n",
        "        (\"system\", system_prompt),\n",
        "        (\"human\", \"{input}\"),\n",
        "    ]\n",
        ")\n",
        "\n",
        "\n",
        "question_answer_chain = create_stuff_documents_chain(llm, prompt)\n",
        "rag_chain = create_retrieval_chain(retriever, question_answer_chain)"
      ]
    },
    {
      "cell_type": "code",
      "execution_count": null,
      "id": "65e2a989-3227-4e7d-8203-47c0745e867d",
      "metadata": {
        "id": "65e2a989-3227-4e7d-8203-47c0745e867d",
        "outputId": "92833d96-76e3-430a-86c3-a427b0af0b22"
      },
      "outputs": [
        {
          "name": "stdout",
          "output_type": "stream",
          "text": [
            "Based on the provided context, Bitcoin is considered the best form of money ever due to its decentralized and secure nature, which eliminates intermediary control and the risk of debasement or confiscation by any authority. Here are some reasons why:\n",
            "\n",
            "1. Decentralization: Bitcoin is the only truly decentralized digital currency, meaning that no single entity or government has control over it. This ensures that no single point of failure can bring the system down, and that transactions are secure and tamper-proof.\n",
            "\n",
            "2. Security: The use of advanced cryptography and blockchain technology makes it nearly impossible to hack or manipulate the transactions on the network. This ensures that the transactions are secure and trustworthy.\n",
            "\n",
            "3. Limited supply: The supply of Bitcoin is capped at 21 million, which means that it can't be inflated or devalued by printing more money, like traditional fiat currencies. This limited supply also makes each Bitcoin valuable and scarce, which increases its purchasing power.\n",
            "\n",
            "4. Transparency: The transactions on the Bitcoin network are transparent, as all transactions are recorded on a public ledger called the blockchain. This transparency ensures that all transactions are visible and traceable.\n",
            "\n",
            "5. Global accessibility: Bitcoin is a digital currency, which means that it can be used anywhere in the world, as long as there is an internet connection. This makes it a borderless currency that can be used by anyone, regardless of their location.\n",
            "\n",
            "6. Efficiency: Bitcoin transactions are fast and efficient, as they are processed and verified by a network of nodes on the blockchain. This means that transactions are confirmed in a matter of minutes, rather than days or weeks.\n",
            "\n",
            "7. No intermediary control: Bitcoin eliminates the need for intermediaries, such as banks and payment processors, which means that users have more control over their money and can conduct transactions directly.\n",
            "\n",
            "8. No risk of confiscation: As Bitcoin is decentralized and secure, there is no risk of confiscation or seizure by any government or authority.\n",
            "\n",
            "9. Store of value: Bitcoin has proven to be a store of value, as its purchasing power has increased over time, despite the moderate increase in its supply.\n",
            "\n",
            "10. Technological leap forward: Bitcoin presents a significant technological leap forward in the monetary solution to the indirect exchange problem, potentially as significant as the move from cattle and salt to gold and silver.\n",
            "\n",
            "In conclusion, Bitcoin's decentralized and secure nature, limited supply, transparency, global accessibility, efficiency, lack of intermediary control, lack of risk of confiscation, store of value, and technological leap forward make it the best form of money ever.\n"
          ]
        }
      ],
      "source": [
        "results = rag_chain.invoke({\"input\": \"Explain in detail why Bitcoin is the best form of money ever?\"})\n",
        "print(results[\"answer\"])"
      ]
    },
    {
      "cell_type": "markdown",
      "id": "3ca398bc-f0a1-4295-a386-5f41e7a92aa3",
      "metadata": {
        "id": "3ca398bc-f0a1-4295-a386-5f41e7a92aa3"
      },
      "source": [
        "### You can see that you get both a final answer in the `answer` key of the results dict, and the `context` the LLM used to generate an answer.\n",
        "\n",
        "### Examining the values under the `context` further, you can see that they are documents that each contain a chunk of the ingested page content. Usefully, these documents also preserve the original metadata from way back when you first loaded them:"
      ]
    },
    {
      "cell_type": "code",
      "execution_count": null,
      "id": "fdb6f181-8744-480a-b11a-c0f8f08b51cc",
      "metadata": {
        "id": "fdb6f181-8744-480a-b11a-c0f8f08b51cc",
        "outputId": "a737efc8-266d-45c4-807f-4343e6c652f5"
      },
      "outputs": [
        {
          "name": "stdout",
          "output_type": "stream",
          "text": [
            "[Document(id='ea432340-3af3-4fc3-9b9a-afaabb999e77', metadata={'source': 'The Bitcoin Standard.pdf', 'page': 267}, page_content='primarily: Bitcoin is the only truly decentralized digital currency which\\nhas grown spontaneously as a finely balanced equilibrium between\\nminers, coders, and users, none of whom can control it. It was only'), Document(id='090ac658-1e06-4261-8e72-c8edca8dad05', metadata={'source': 'The Bitcoin Standard.pdf', 'page': 198}, page_content='seen with other forms of money, while its divisibility into 100,000,000\\nsatoshis makes it salable in scale. Further, Bitcoin’s elimination of inter-\\nmediary control and the near-impossibility of any authority debasing\\nor confiscating it renders it free of the main drawbacks of government\\nmoney. As the digital age has introduced improvements and efficiencies\\nto most aspects of our life, Bitcoin presents a tremendous technolog-\\nical leap forward in the monetary solution to the indirect exchange\\nproblem, perhaps as significant as the move from cattle and salt to gold\\nand silver.\\nWhereas traditional currencies are continuously increasing in supply\\nand decreasing in purchasing power, bitcoin has so far witnessed a large\\nincrease in real purchasing power despitea moderate,but decreasingand\\ncapped, increase in its supply. Because miners who verify transactions\\nare rewarded with bitcoins, these miners have a strong vested interest in'), Document(id='fcbd0575-1b27-4731-9044-80636849338d', metadata={'source': 'The Bitcoin Standard.pdf', 'page': 185}, page_content='many attempts at producing digital money to deliver something which\\nwas almost unimaginable before it was invented. To understand why, we\\nwillfocusonthemonetarypropertiesofBitcoinaswellastheeconomic\\nperformance of the network since its inception. In the same way that a\\nbook on the gold standard would not discuss the chemical properties of\\ngold, this chapter will not delve too much into the technical details of\\nthe operation of the Bitcoin network, instead focusing on the monetary\\nproperties of the bitcoin currency.\\nBitcoin as Digital Cash\\nTo understand the significance of a technology for digital cash, it is\\ninstructive to look at the world before Bitcoin was invented, when one'), Document(id='2cc593ee-41f5-466a-a9d7-9fceccaa62fa', metadata={'source': 'The Bitcoin Standard.pdf', 'page': 199}, page_content='beingacquiredbyindividualstouseontheBitcoinnetwork,andgaining\\neconomic value, Bitcoin began to get monetized through more people\\ndemanding it as a store of value. This sequence of activities conforms\\nto Ludwig von Mises’ Theory of Regression on the origins of money,\\nwhich states that a monetary good begins as a market good and is then\\nused as a medium of exchange. Bitcoin’s collectible status among small\\ncommunities is no different from seashells’, Rai stones’, and precious\\nmetals’ ornamental value, from which they were to acquire a monetary\\nrole that raised their value significantly.\\nBeing new and only beginning to spread, Bitcoin’s price has fluctu-\\nated wildly as demand fluctuates, but the impossibility of increasing the\\n10Details of both transactions can be found in Nathaniel Popper’sDigital Gold.\\n11See Chapter 10 for a discussion of why Bitcoin knockoffs cannot be described as digital cash.')]\n"
          ]
        }
      ],
      "source": [
        "print(results[\"context\"])"
      ]
    },
    {
      "cell_type": "code",
      "execution_count": null,
      "id": "6193d430-a52f-415d-865e-a263223165d6",
      "metadata": {
        "id": "6193d430-a52f-415d-865e-a263223165d6",
        "outputId": "0e6d053a-341b-4719-84de-896ac5eff993"
      },
      "outputs": [
        {
          "name": "stdout",
          "output_type": "stream",
          "text": [
            "primarily: Bitcoin is the only truly decentralized digital currency which\n",
            "has grown spontaneously as a finely balanced equilibrium between\n",
            "miners, coders, and users, none of whom can control it. It was only\n"
          ]
        }
      ],
      "source": [
        "print(results[\"context\"][0].page_content)"
      ]
    },
    {
      "cell_type": "code",
      "execution_count": null,
      "id": "a341fc75-0d8f-492a-b067-d9ab1ae1ee74",
      "metadata": {
        "id": "a341fc75-0d8f-492a-b067-d9ab1ae1ee74",
        "outputId": "a8117d65-725d-42d7-f4f1-5c040e930c2c"
      },
      "outputs": [
        {
          "name": "stdout",
          "output_type": "stream",
          "text": [
            "{'source': 'The Bitcoin Standard.pdf', 'page': 267}\n"
          ]
        }
      ],
      "source": [
        "print(results[\"context\"][0].metadata)"
      ]
    },
    {
      "cell_type": "markdown",
      "id": "ac345306-8ea3-4e36-9632-914b40c6b574",
      "metadata": {
        "id": "ac345306-8ea3-4e36-9632-914b40c6b574"
      },
      "source": [
        "### This particular chunk came from page 267 in the original PDF. You can use this data to show which page in the PDF the answer came from, allowing users to quickly verify that answers are based on the source material."
      ]
    }
  ],
  "metadata": {
    "kernelspec": {
      "display_name": "Python 3 (ipykernel)",
      "language": "python",
      "name": "python3"
    },
    "language_info": {
      "codemirror_mode": {
        "name": "ipython",
        "version": 3
      },
      "file_extension": ".py",
      "mimetype": "text/x-python",
      "name": "python",
      "nbconvert_exporter": "python",
      "pygments_lexer": "ipython3",
      "version": "3.12.4"
    },
    "colab": {
      "provenance": []
    }
  },
  "nbformat": 4,
  "nbformat_minor": 5
}